{
 "cells": [
  {
   "cell_type": "code",
   "execution_count": 1,
   "metadata": {},
   "outputs": [],
   "source": [
    "import tensorflow as tf\n",
    "import matplotlib.pyplot as plt\n",
    "import pydot"
   ]
  },
  {
   "cell_type": "code",
   "execution_count": 2,
   "metadata": {},
   "outputs": [],
   "source": [
    "\n",
    "(x_train,_),(x_test,_)=tf.keras.datasets.mnist.load_data()"
   ]
  },
  {
   "cell_type": "code",
   "execution_count": 3,
   "metadata": {},
   "outputs": [
    {
     "data": {
      "text/plain": [
       "(60000, 28, 28)"
      ]
     },
     "execution_count": 3,
     "metadata": {},
     "output_type": "execute_result"
    }
   ],
   "source": [
    "x_train.shape"
   ]
  },
  {
   "cell_type": "code",
   "execution_count": 4,
   "metadata": {},
   "outputs": [
    {
     "data": {
      "text/plain": [
       "(10000, 28, 28)"
      ]
     },
     "execution_count": 4,
     "metadata": {},
     "output_type": "execute_result"
    }
   ],
   "source": [
    "x_test.shape"
   ]
  },
  {
   "cell_type": "code",
   "execution_count": 5,
   "metadata": {},
   "outputs": [],
   "source": [
    "x_train=x_train.reshape(x_train.shape[0],-1) # -1 automatically cacluate dims =28x28 final is 60000x784"
   ]
  },
  {
   "cell_type": "code",
   "execution_count": 6,
   "metadata": {},
   "outputs": [],
   "source": [
    "x_test=x_test.reshape(x_test.shape[0],-1)"
   ]
  },
  {
   "cell_type": "code",
   "execution_count": 7,
   "metadata": {},
   "outputs": [
    {
     "data": {
      "text/plain": [
       "((60000, 784), (10000, 784))"
      ]
     },
     "execution_count": 7,
     "metadata": {},
     "output_type": "execute_result"
    }
   ],
   "source": [
    "x_train.shape, x_test.shape"
   ]
  },
  {
   "cell_type": "code",
   "execution_count": 8,
   "metadata": {},
   "outputs": [
    {
     "data": {
      "text/plain": [
       "numpy.ndarray"
      ]
     },
     "execution_count": 8,
     "metadata": {},
     "output_type": "execute_result"
    }
   ],
   "source": [
    "type(x_train)"
   ]
  },
  {
   "cell_type": "code",
   "execution_count": 9,
   "metadata": {},
   "outputs": [],
   "source": [
    "x_train=tf.cast(x_train,tf.float32)/255 #由于图像像素是0-255的值，归一化需要将他们放到0-1这个范围内"
   ]
  },
  {
   "cell_type": "code",
   "execution_count": 10,
   "metadata": {},
   "outputs": [
    {
     "data": {
      "text/plain": [
       "tensorflow.python.framework.ops.EagerTensor"
      ]
     },
     "execution_count": 10,
     "metadata": {},
     "output_type": "execute_result"
    }
   ],
   "source": [
    "type(x_train)"
   ]
  },
  {
   "cell_type": "code",
   "execution_count": 11,
   "metadata": {},
   "outputs": [],
   "source": [
    "input_size=784\n",
    "hidden_size=32\n",
    "output_size=784"
   ]
  },
  {
   "cell_type": "code",
   "execution_count": 12,
   "metadata": {},
   "outputs": [],
   "source": [
    "input=tf.keras.layers.Input(shape=(input_size,))# keras deepLearning API\n",
    "#encode\n",
    "en=tf.keras.layers.Dense(hidden_size,activation='relu')(input)# Dense-全连 input 输入变成encode\n",
    "#decode 还原回784\n",
    "de=tf.keras.layers.Dense(output_size,activation='sigmoid')(en)# Dense-全连 encode 输入变成decode 由于输入的时候归一化了，输出得用sigmoid\n",
    "#把范围变回0-1之间\n",
    "model=tf.keras.Model(inputs=input,outputs=de)\n"
   ]
  },
  {
   "cell_type": "code",
   "execution_count": 13,
   "metadata": {},
   "outputs": [
    {
     "name": "stdout",
     "output_type": "stream",
     "text": [
      "Model: \"model\"\n",
      "_________________________________________________________________\n",
      "Layer (type)                 Output Shape              Param #   \n",
      "=================================================================\n",
      "input_1 (InputLayer)         [(None, 784)]             0         \n",
      "_________________________________________________________________\n",
      "dense (Dense)                (None, 32)                25120     \n",
      "_________________________________________________________________\n",
      "dense_1 (Dense)              (None, 784)               25872     \n",
      "=================================================================\n",
      "Total params: 50,992\n",
      "Trainable params: 50,992\n",
      "Non-trainable params: 0\n",
      "_________________________________________________________________\n"
     ]
    }
   ],
   "source": [
    "model.summary()"
   ]
  },
  {
   "cell_type": "code",
   "execution_count": 14,
   "metadata": {},
   "outputs": [
    {
     "data": {
      "image/png": "[encoded data removed]",
      "text/plain": [
       "<IPython.core.display.Image object>"
      ]
     },
     "execution_count": 14,
     "metadata": {},
     "output_type": "execute_result"
    }
   ],
   "source": [
    "tf.keras.utils.plot_model(model,show_shapes=True)# 画出模型结构"
   ]
  },
  {
   "cell_type": "code",
   "execution_count": 15,
   "metadata": {},
   "outputs": [],
   "source": [
    "model.compile(optimizer='adam',\n",
    "loss='mse'#mean squre error 输入输出误差越小越好\n",
    ")"
   ]
  },
  {
   "cell_type": "code",
   "execution_count": 16,
   "metadata": {},
   "outputs": [
    {
     "name": "stdout",
     "output_type": "stream",
     "text": [
      "Train on 60000 samples, validate on 10000 samples\n",
      "Epoch 1/50\n",
      "60000/60000 [==============================] - 1s 21us/sample - loss: 0.0693 - val_loss: 7364.3618\n",
      "Epoch 2/50\n",
      "60000/60000 [==============================] - 1s 8us/sample - loss: 0.0348 - val_loss: 7356.8501\n",
      "Epoch 3/50\n",
      "60000/60000 [==============================] - 1s 8us/sample - loss: 0.0266 - val_loss: 7352.3312\n",
      "Epoch 4/50\n",
      "60000/60000 [==============================] - 1s 9us/sample - loss: 0.0215 - val_loss: 7350.1048\n",
      "Epoch 5/50\n",
      "60000/60000 [==============================] - 1s 9us/sample - loss: 0.0181 - val_loss: 7348.4448\n",
      "Epoch 6/50\n",
      "60000/60000 [==============================] - 0s 8us/sample - loss: 0.0159 - val_loss: 7346.6180\n",
      "Epoch 7/50\n",
      "60000/60000 [==============================] - 0s 8us/sample - loss: 0.0142 - val_loss: 7345.4381\n",
      "Epoch 8/50\n",
      "60000/60000 [==============================] - 1s 9us/sample - loss: 0.0130 - val_loss: 7344.6024\n",
      "Epoch 9/50\n",
      "60000/60000 [==============================] - 1s 8us/sample - loss: 0.0122 - val_loss: 7344.1188\n",
      "Epoch 10/50\n",
      "60000/60000 [==============================] - 1s 9us/sample - loss: 0.0116 - val_loss: 7343.7727\n",
      "Epoch 11/50\n",
      "60000/60000 [==============================] - 1s 8us/sample - loss: 0.0112 - val_loss: 7343.5820\n",
      "Epoch 12/50\n",
      "60000/60000 [==============================] - 0s 8us/sample - loss: 0.0109 - val_loss: 7343.4605\n",
      "Epoch 13/50\n",
      "60000/60000 [==============================] - 1s 8us/sample - loss: 0.0107 - val_loss: 7343.3881\n",
      "Epoch 14/50\n",
      "60000/60000 [==============================] - 1s 8us/sample - loss: 0.0106 - val_loss: 7343.3345\n",
      "Epoch 15/50\n",
      "60000/60000 [==============================] - 0s 8us/sample - loss: 0.0105 - val_loss: 7343.3016\n",
      "Epoch 16/50\n",
      "60000/60000 [==============================] - 0s 8us/sample - loss: 0.0104 - val_loss: 7343.2729\n",
      "Epoch 17/50\n",
      "60000/60000 [==============================] - 0s 8us/sample - loss: 0.0103 - val_loss: 7343.2608\n",
      "Epoch 18/50\n",
      "60000/60000 [==============================] - 0s 8us/sample - loss: 0.0103 - val_loss: 7343.2450\n",
      "Epoch 19/50\n",
      "60000/60000 [==============================] - 0s 8us/sample - loss: 0.0103 - val_loss: 7343.2367\n",
      "Epoch 20/50\n",
      "60000/60000 [==============================] - 1s 10us/sample - loss: 0.0102 - val_loss: 7343.2263\n",
      "Epoch 21/50\n",
      "60000/60000 [==============================] - 0s 8us/sample - loss: 0.0102 - val_loss: 7343.2194\n",
      "Epoch 22/50\n",
      "60000/60000 [==============================] - 0s 8us/sample - loss: 0.0102 - val_loss: 7343.2150\n",
      "Epoch 23/50\n",
      "60000/60000 [==============================] - 1s 9us/sample - loss: 0.0101 - val_loss: 7343.2094\n",
      "Epoch 24/50\n",
      "60000/60000 [==============================] - 0s 8us/sample - loss: 0.0101 - val_loss: 7343.2100\n",
      "Epoch 25/50\n",
      "60000/60000 [==============================] - 0s 8us/sample - loss: 0.0101 - val_loss: 7343.2044\n",
      "Epoch 26/50\n",
      "60000/60000 [==============================] - 0s 8us/sample - loss: 0.0101 - val_loss: 7343.1985\n",
      "Epoch 27/50\n",
      "60000/60000 [==============================] - 0s 8us/sample - loss: 0.0101 - val_loss: 7343.1911\n",
      "Epoch 28/50\n",
      "60000/60000 [==============================] - 0s 8us/sample - loss: 0.0101 - val_loss: 7343.1893\n",
      "Epoch 29/50\n",
      "60000/60000 [==============================] - 0s 8us/sample - loss: 0.0100 - val_loss: 7343.1797\n",
      "Epoch 30/50\n",
      "60000/60000 [==============================] - 1s 9us/sample - loss: 0.0100 - val_loss: 7343.1779\n",
      "Epoch 31/50\n",
      "60000/60000 [==============================] - 1s 8us/sample - loss: 0.0100 - val_loss: 7343.1765\n",
      "Epoch 32/50\n",
      "60000/60000 [==============================] - 1s 8us/sample - loss: 0.0100 - val_loss: 7343.1736\n",
      "Epoch 33/50\n",
      "60000/60000 [==============================] - 1s 8us/sample - loss: 0.0100 - val_loss: 7343.1686\n",
      "Epoch 34/50\n",
      "60000/60000 [==============================] - 1s 9us/sample - loss: 0.0100 - val_loss: 7343.1732\n",
      "Epoch 35/50\n",
      "60000/60000 [==============================] - 1s 9us/sample - loss: 0.0100 - val_loss: 7343.1683\n",
      "Epoch 36/50\n",
      "60000/60000 [==============================] - 1s 9us/sample - loss: 0.0100 - val_loss: 7343.1610\n",
      "Epoch 37/50\n",
      "60000/60000 [==============================] - 1s 9us/sample - loss: 0.0100 - val_loss: 7343.1616\n",
      "Epoch 38/50\n",
      "60000/60000 [==============================] - 0s 8us/sample - loss: 0.0099 - val_loss: 7343.1602\n",
      "Epoch 39/50\n",
      "60000/60000 [==============================] - 0s 8us/sample - loss: 0.0099 - val_loss: 7343.1519\n",
      "Epoch 40/50\n",
      "60000/60000 [==============================] - 0s 8us/sample - loss: 0.0099 - val_loss: 7343.1496\n",
      "Epoch 41/50\n",
      "60000/60000 [==============================] - 1s 9us/sample - loss: 0.0099 - val_loss: 7343.1467\n",
      "Epoch 42/50\n",
      "60000/60000 [==============================] - 0s 8us/sample - loss: 0.0099 - val_loss: 7343.1375\n",
      "Epoch 43/50\n",
      "60000/60000 [==============================] - 0s 8us/sample - loss: 0.0099 - val_loss: 7343.1329\n",
      "Epoch 44/50\n",
      "60000/60000 [==============================] - 0s 8us/sample - loss: 0.0099 - val_loss: 7343.1285\n",
      "Epoch 45/50\n",
      "60000/60000 [==============================] - 0s 8us/sample - loss: 0.0099 - val_loss: 7343.1182\n",
      "Epoch 46/50\n",
      "60000/60000 [==============================] - 0s 8us/sample - loss: 0.0099 - val_loss: 7343.1243\n",
      "Epoch 47/50\n",
      "60000/60000 [==============================] - 0s 8us/sample - loss: 0.0099 - val_loss: 7343.1164\n",
      "Epoch 48/50\n",
      "60000/60000 [==============================] - 1s 9us/sample - loss: 0.0099 - val_loss: 7343.1091\n",
      "Epoch 49/50\n",
      "60000/60000 [==============================] - 0s 8us/sample - loss: 0.0099 - val_loss: 7343.1030\n",
      "Epoch 50/50\n",
      "60000/60000 [==============================] - 0s 8us/sample - loss: 0.0099 - val_loss: 7343.0995\n"
     ]
    },
    {
     "data": {
      "text/plain": [
       "<tensorflow.python.keras.callbacks.History at 0x27427309b08>"
      ]
     },
     "execution_count": 16,
     "metadata": {},
     "output_type": "execute_result"
    }
   ],
   "source": [
    "model.fit(x_train,x_train,\n",
    "          epochs=50,\n",
    "          batch_size=256,\n",
    "          shuffle=True,\n",
    "          validation_data=(x_test,x_test)\n",
    "         )#由于自编码 输入输出一样，故x_train,x_train"
   ]
  },
  {
   "cell_type": "code",
   "execution_count": 18,
   "metadata": {},
   "outputs": [],
   "source": [
    "encode=tf.keras.Model(inputs=input,outputs=en)"
   ]
  },
  {
   "cell_type": "code",
   "execution_count": 55,
   "metadata": {},
   "outputs": [],
   "source": [
    "input_de=tf.keras.layers.Input(shape=(hidden_size,))\n",
    "output_de=model.layers[-1](input_de)#由于最后一层输出，所以【-1】\n",
    "decode=tf.keras.Model(inputs=input_de,outputs=output_de)"
   ]
  },
  {
   "cell_type": "code",
   "execution_count": 44,
   "metadata": {},
   "outputs": [],
   "source": [
    "encode_test=encode(x_test)"
   ]
  },
  {
   "cell_type": "code",
   "execution_count": 45,
   "metadata": {},
   "outputs": [
    {
     "data": {
      "text/plain": [
       "TensorShape([10000, 32])"
      ]
     },
     "execution_count": 45,
     "metadata": {},
     "output_type": "execute_result"
    }
   ],
   "source": [
    "encode_test.shape"
   ]
  },
  {
   "cell_type": "code",
   "execution_count": 46,
   "metadata": {},
   "outputs": [
    {
     "data": {
      "text/plain": [
       "(10000, 784)"
      ]
     },
     "execution_count": 46,
     "metadata": {},
     "output_type": "execute_result"
    }
   ],
   "source": [
    "x_test.shape"
   ]
  },
  {
   "cell_type": "code",
   "execution_count": 47,
   "metadata": {},
   "outputs": [],
   "source": [
    "decode_test=decode(encode_test)"
   ]
  },
  {
   "cell_type": "code",
   "execution_count": 48,
   "metadata": {},
   "outputs": [
    {
     "data": {
      "text/plain": [
       "TensorShape([10000, 784])"
      ]
     },
     "execution_count": 48,
     "metadata": {},
     "output_type": "execute_result"
    }
   ],
   "source": [
    "decode_test.shape"
   ]
  },
  {
   "cell_type": "code",
   "execution_count": 49,
   "metadata": {},
   "outputs": [],
   "source": [
    "decode_test=decode.predict(encode_test)# 用predict 数据格式变成ndaarry"
   ]
  },
  {
   "cell_type": "code",
   "execution_count": 50,
   "metadata": {},
   "outputs": [
    {
     "data": {
      "text/plain": [
       "numpy.ndarray"
      ]
     },
     "execution_count": 50,
     "metadata": {},
     "output_type": "execute_result"
    }
   ],
   "source": [
    "type(decode_test)"
   ]
  },
  {
   "cell_type": "code",
   "execution_count": 51,
   "metadata": {},
   "outputs": [],
   "source": [
    "n=10# 画前十个图\n"
   ]
  },
  {
   "cell_type": "code",
   "execution_count": 52,
   "metadata": {},
   "outputs": [
    {
     "data": {
      "text/plain": [
       "<Figure size 2160x720 with 0 Axes>"
      ]
     },
     "execution_count": 52,
     "metadata": {},
     "output_type": "execute_result"
    },
    {
     "data": {
      "text/plain": [
       "<Figure size 2160x720 with 0 Axes>"
      ]
     },
     "metadata": {},
     "output_type": "display_data"
    }
   ],
   "source": [
    "plt.figure(figsize=(30,10))# 一个画板"
   ]
  },
  {
   "cell_type": "code",
   "execution_count": 53,
   "metadata": {},
   "outputs": [
    {
     "data": {
      "image/png": "[encoded data removed]",
      "text/plain": [
       "<Figure size 432x288 with 18 Axes>"
      ]
     },
     "metadata": {
      "needs_background": "light"
     },
     "output_type": "display_data"
    }
   ],
   "source": [
    "\n",
    "for i in range(1,n):\n",
    "    ax=plt.subplot(2,n,i)#画两个子图\n",
    "    plt.imshow(x_test[i].reshape(28,28))# 之前是784 reshape成28x28\n",
    "    ax=plt.subplot(2,n,i+n)# 2列一行n个从第n+1开始第二列\n",
    "    plt.imshow(decode_test[i].reshape(28,28))"
   ]
  },
  {
   "cell_type": "code",
   "execution_count": null,
   "metadata": {},
   "outputs": [],
   "source": []
  }
 ],
 "metadata": {
  "kernelspec": {
   "display_name": "Python 3",
   "language": "python",
   "name": "python3"
  },
  "language_info": {
   "codemirror_mode": {
    "name": "ipython",
    "version": 3
   },
   "file_extension": ".py",
   "mimetype": "text/x-python",
   "name": "python",
   "nbconvert_exporter": "python",
   "pygments_lexer": "ipython3",
   "version": "3.7.9"
  }
 },
 "nbformat": 4,
 "nbformat_minor": 4
}
